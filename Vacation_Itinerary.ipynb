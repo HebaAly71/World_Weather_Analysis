{
 "cells": [
  {
   "cell_type": "code",
   "execution_count": 40,
   "metadata": {},
   "outputs": [],
   "source": [
    "# Import the dependencies.\n",
    "import pandas as pd\n",
    "import gmaps\n",
    "import requests\n",
    "import gmaps.datasets\n"
   ]
  },
  {
   "cell_type": "code",
   "execution_count": 41,
   "metadata": {},
   "outputs": [],
   "source": [
    "# Import the API key.\n",
    "from config import gog_key\n",
    "\n"
   ]
  },
  {
   "cell_type": "code",
   "execution_count": 42,
   "metadata": {},
   "outputs": [
    {
     "data": {
      "text/html": [
       "<div>\n",
       "<style scoped>\n",
       "    .dataframe tbody tr th:only-of-type {\n",
       "        vertical-align: middle;\n",
       "    }\n",
       "\n",
       "    .dataframe tbody tr th {\n",
       "        vertical-align: top;\n",
       "    }\n",
       "\n",
       "    .dataframe thead th {\n",
       "        text-align: right;\n",
       "    }\n",
       "</style>\n",
       "<table border=\"1\" class=\"dataframe\">\n",
       "  <thead>\n",
       "    <tr style=\"text-align: right;\">\n",
       "      <th></th>\n",
       "      <th>City_ID</th>\n",
       "      <th>City</th>\n",
       "      <th>Country</th>\n",
       "      <th>Max Temp</th>\n",
       "      <th>Lat</th>\n",
       "      <th>Lng</th>\n",
       "      <th>Current Descrption</th>\n",
       "      <th>Hotel Name</th>\n",
       "    </tr>\n",
       "  </thead>\n",
       "  <tbody>\n",
       "    <tr>\n",
       "      <th>0</th>\n",
       "      <td>30</td>\n",
       "      <td>Kavieng</td>\n",
       "      <td>PG</td>\n",
       "      <td>83.77</td>\n",
       "      <td>-2.57</td>\n",
       "      <td>150.80</td>\n",
       "      <td>moderate rain</td>\n",
       "      <td>Nusa Island Retreat</td>\n",
       "    </tr>\n",
       "    <tr>\n",
       "      <th>1</th>\n",
       "      <td>64</td>\n",
       "      <td>Karratha</td>\n",
       "      <td>AU</td>\n",
       "      <td>83.57</td>\n",
       "      <td>-20.74</td>\n",
       "      <td>116.85</td>\n",
       "      <td>light rain</td>\n",
       "      <td>ibis Styles Karratha</td>\n",
       "    </tr>\n",
       "    <tr>\n",
       "      <th>2</th>\n",
       "      <td>67</td>\n",
       "      <td>Meulaboh</td>\n",
       "      <td>ID</td>\n",
       "      <td>81.25</td>\n",
       "      <td>4.14</td>\n",
       "      <td>96.13</td>\n",
       "      <td>light rain</td>\n",
       "      <td>Kost Pria</td>\n",
       "    </tr>\n",
       "    <tr>\n",
       "      <th>3</th>\n",
       "      <td>79</td>\n",
       "      <td>Isangel</td>\n",
       "      <td>VU</td>\n",
       "      <td>76.89</td>\n",
       "      <td>-19.55</td>\n",
       "      <td>169.27</td>\n",
       "      <td>light rain</td>\n",
       "      <td>Volcano Sea View Tree House</td>\n",
       "    </tr>\n",
       "    <tr>\n",
       "      <th>4</th>\n",
       "      <td>175</td>\n",
       "      <td>Baiao</td>\n",
       "      <td>BR</td>\n",
       "      <td>80.49</td>\n",
       "      <td>-2.79</td>\n",
       "      <td>-49.67</td>\n",
       "      <td>light rain</td>\n",
       "      <td>Hotel Eurosono</td>\n",
       "    </tr>\n",
       "  </tbody>\n",
       "</table>\n",
       "</div>"
      ],
      "text/plain": [
       "   City_ID      City Country  Max Temp    Lat     Lng Current Descrption  \\\n",
       "0       30   Kavieng      PG     83.77  -2.57  150.80      moderate rain   \n",
       "1       64  Karratha      AU     83.57 -20.74  116.85         light rain   \n",
       "2       67  Meulaboh      ID     81.25   4.14   96.13         light rain   \n",
       "3       79   Isangel      VU     76.89 -19.55  169.27         light rain   \n",
       "4      175     Baiao      BR     80.49  -2.79  -49.67         light rain   \n",
       "\n",
       "                    Hotel Name  \n",
       "0          Nusa Island Retreat  \n",
       "1         ibis Styles Karratha  \n",
       "2                    Kost Pria  \n",
       "3  Volcano Sea View Tree House  \n",
       "4               Hotel Eurosono  "
      ]
     },
     "execution_count": 42,
     "metadata": {},
     "output_type": "execute_result"
    }
   ],
   "source": [
    "# Store the CSV you saved created in part one into a DataFrame.\n",
    "vac_data_df = pd.read_csv(\"weather_data/weatherpy_vacation.csv\")\n",
    "vac_data_df.head()"
   ]
  },
  {
   "cell_type": "code",
   "execution_count": 43,
   "metadata": {},
   "outputs": [
    {
     "data": {
      "text/html": [
       "<div>\n",
       "<style scoped>\n",
       "    .dataframe tbody tr th:only-of-type {\n",
       "        vertical-align: middle;\n",
       "    }\n",
       "\n",
       "    .dataframe tbody tr th {\n",
       "        vertical-align: top;\n",
       "    }\n",
       "\n",
       "    .dataframe thead th {\n",
       "        text-align: right;\n",
       "    }\n",
       "</style>\n",
       "<table border=\"1\" class=\"dataframe\">\n",
       "  <thead>\n",
       "    <tr style=\"text-align: right;\">\n",
       "      <th></th>\n",
       "      <th>City_ID</th>\n",
       "      <th>City</th>\n",
       "      <th>Country</th>\n",
       "      <th>Max Temp</th>\n",
       "      <th>Lat</th>\n",
       "      <th>Lng</th>\n",
       "      <th>Current Descrption</th>\n",
       "      <th>Hotel Name</th>\n",
       "    </tr>\n",
       "  </thead>\n",
       "  <tbody>\n",
       "    <tr>\n",
       "      <th>14</th>\n",
       "      <td>384</td>\n",
       "      <td>Cururupu</td>\n",
       "      <td>BR</td>\n",
       "      <td>76.77</td>\n",
       "      <td>-1.82</td>\n",
       "      <td>-44.87</td>\n",
       "      <td>light rain</td>\n",
       "      <td>Pousada Través'cia</td>\n",
       "    </tr>\n",
       "  </tbody>\n",
       "</table>\n",
       "</div>"
      ],
      "text/plain": [
       "    City_ID      City Country  Max Temp   Lat    Lng Current Descrption  \\\n",
       "14      384  Cururupu      BR     76.77 -1.82 -44.87         light rain   \n",
       "\n",
       "            Hotel Name  \n",
       "14  Pousada Través'cia  "
      ]
     },
     "execution_count": 43,
     "metadata": {},
     "output_type": "execute_result"
    }
   ],
   "source": [
    "# Create a dataframe for Cururupu City\n",
    "cururupu_df= vac_data_df[(vac_data_df['City'] == 'Cururupu')]\n",
    "cururupu_df"
   ]
  },
  {
   "cell_type": "code",
   "execution_count": 44,
   "metadata": {},
   "outputs": [
    {
     "data": {
      "text/html": [
       "<div>\n",
       "<style scoped>\n",
       "    .dataframe tbody tr th:only-of-type {\n",
       "        vertical-align: middle;\n",
       "    }\n",
       "\n",
       "    .dataframe tbody tr th {\n",
       "        vertical-align: top;\n",
       "    }\n",
       "\n",
       "    .dataframe thead th {\n",
       "        text-align: right;\n",
       "    }\n",
       "</style>\n",
       "<table border=\"1\" class=\"dataframe\">\n",
       "  <thead>\n",
       "    <tr style=\"text-align: right;\">\n",
       "      <th></th>\n",
       "      <th>City_ID</th>\n",
       "      <th>City</th>\n",
       "      <th>Country</th>\n",
       "      <th>Max Temp</th>\n",
       "      <th>Lat</th>\n",
       "      <th>Lng</th>\n",
       "      <th>Current Descrption</th>\n",
       "      <th>Hotel Name</th>\n",
       "    </tr>\n",
       "  </thead>\n",
       "  <tbody>\n",
       "    <tr>\n",
       "      <th>4</th>\n",
       "      <td>175</td>\n",
       "      <td>Baiao</td>\n",
       "      <td>BR</td>\n",
       "      <td>80.49</td>\n",
       "      <td>-2.79</td>\n",
       "      <td>-49.67</td>\n",
       "      <td>light rain</td>\n",
       "      <td>Hotel Eurosono</td>\n",
       "    </tr>\n",
       "  </tbody>\n",
       "</table>\n",
       "</div>"
      ],
      "text/plain": [
       "   City_ID   City Country  Max Temp   Lat    Lng Current Descrption  \\\n",
       "4      175  Baiao      BR     80.49 -2.79 -49.67         light rain   \n",
       "\n",
       "       Hotel Name  \n",
       "4  Hotel Eurosono  "
      ]
     },
     "execution_count": 44,
     "metadata": {},
     "output_type": "execute_result"
    }
   ],
   "source": [
    "# Create a dataframe for Baiao City\n",
    "baiao_df= vac_data_df[(vac_data_df['City'] == 'Baiao')]\n",
    "baiao_df"
   ]
  },
  {
   "cell_type": "code",
   "execution_count": 45,
   "metadata": {},
   "outputs": [
    {
     "data": {
      "text/html": [
       "<div>\n",
       "<style scoped>\n",
       "    .dataframe tbody tr th:only-of-type {\n",
       "        vertical-align: middle;\n",
       "    }\n",
       "\n",
       "    .dataframe tbody tr th {\n",
       "        vertical-align: top;\n",
       "    }\n",
       "\n",
       "    .dataframe thead th {\n",
       "        text-align: right;\n",
       "    }\n",
       "</style>\n",
       "<table border=\"1\" class=\"dataframe\">\n",
       "  <thead>\n",
       "    <tr style=\"text-align: right;\">\n",
       "      <th></th>\n",
       "      <th>City_ID</th>\n",
       "      <th>City</th>\n",
       "      <th>Country</th>\n",
       "      <th>Max Temp</th>\n",
       "      <th>Lat</th>\n",
       "      <th>Lng</th>\n",
       "      <th>Current Descrption</th>\n",
       "      <th>Hotel Name</th>\n",
       "    </tr>\n",
       "  </thead>\n",
       "  <tbody>\n",
       "    <tr>\n",
       "      <th>16</th>\n",
       "      <td>412</td>\n",
       "      <td>Camopi</td>\n",
       "      <td>GF</td>\n",
       "      <td>77.7</td>\n",
       "      <td>3.17</td>\n",
       "      <td>-52.33</td>\n",
       "      <td>light rain</td>\n",
       "      <td>NaN</td>\n",
       "    </tr>\n",
       "  </tbody>\n",
       "</table>\n",
       "</div>"
      ],
      "text/plain": [
       "    City_ID    City Country  Max Temp   Lat    Lng Current Descrption  \\\n",
       "16      412  Camopi      GF      77.7  3.17 -52.33         light rain   \n",
       "\n",
       "   Hotel Name  \n",
       "16        NaN  "
      ]
     },
     "execution_count": 45,
     "metadata": {},
     "output_type": "execute_result"
    }
   ],
   "source": [
    "# Create a dataframe for Camopi City\n",
    "camopi_df= vac_data_df[(vac_data_df['City'] == 'Camopi')]\n",
    "camopi_df"
   ]
  },
  {
   "cell_type": "code",
   "execution_count": 46,
   "metadata": {},
   "outputs": [
    {
     "data": {
      "text/html": [
       "<div>\n",
       "<style scoped>\n",
       "    .dataframe tbody tr th:only-of-type {\n",
       "        vertical-align: middle;\n",
       "    }\n",
       "\n",
       "    .dataframe tbody tr th {\n",
       "        vertical-align: top;\n",
       "    }\n",
       "\n",
       "    .dataframe thead th {\n",
       "        text-align: right;\n",
       "    }\n",
       "</style>\n",
       "<table border=\"1\" class=\"dataframe\">\n",
       "  <thead>\n",
       "    <tr style=\"text-align: right;\">\n",
       "      <th></th>\n",
       "      <th>City_ID</th>\n",
       "      <th>City</th>\n",
       "      <th>Country</th>\n",
       "      <th>Max Temp</th>\n",
       "      <th>Lat</th>\n",
       "      <th>Lng</th>\n",
       "      <th>Current Descrption</th>\n",
       "      <th>Hotel Name</th>\n",
       "    </tr>\n",
       "  </thead>\n",
       "  <tbody>\n",
       "    <tr>\n",
       "      <th>12</th>\n",
       "      <td>313</td>\n",
       "      <td>Sinnamary</td>\n",
       "      <td>GF</td>\n",
       "      <td>79.81</td>\n",
       "      <td>5.38</td>\n",
       "      <td>-52.96</td>\n",
       "      <td>light rain</td>\n",
       "      <td>ALETHEIA Appartement Sinnamary</td>\n",
       "    </tr>\n",
       "  </tbody>\n",
       "</table>\n",
       "</div>"
      ],
      "text/plain": [
       "    City_ID       City Country  Max Temp   Lat    Lng Current Descrption  \\\n",
       "12      313  Sinnamary      GF     79.81  5.38 -52.96         light rain   \n",
       "\n",
       "                        Hotel Name  \n",
       "12  ALETHEIA Appartement Sinnamary  "
      ]
     },
     "execution_count": 46,
     "metadata": {},
     "output_type": "execute_result"
    }
   ],
   "source": [
    "# Create a dataframe for Sinnamary City\n",
    "sinnamary_df= vac_data_df[(vac_data_df['City'] == 'Sinnamary')]\n",
    "sinnamary_df"
   ]
  },
  {
   "cell_type": "code",
   "execution_count": 47,
   "metadata": {},
   "outputs": [],
   "source": [
    "# Configure gmaps to use your Google API key.\n",
    "gmaps.configure(api_key=gog_key) "
   ]
  },
  {
   "cell_type": "code",
   "execution_count": 48,
   "metadata": {},
   "outputs": [
    {
     "data": {
      "text/plain": [
       "(-2.79, -49.67)"
      ]
     },
     "execution_count": 48,
     "metadata": {},
     "output_type": "execute_result"
    }
   ],
   "source": [
    "#  Lat and longitude of Baiao city\n",
    "baiao_latlng= list(zip(baiao_df['Lat'],baiao_df['Lng']))[0]\n",
    "baiao_latlng"
   ]
  },
  {
   "cell_type": "code",
   "execution_count": 49,
   "metadata": {},
   "outputs": [
    {
     "data": {
      "text/plain": [
       "(-1.82, -44.87)"
      ]
     },
     "execution_count": 49,
     "metadata": {},
     "output_type": "execute_result"
    }
   ],
   "source": [
    "#  Lat and longitude of Cururupu city\n",
    "cururupu_latlng= tuple(zip(cururupu_df['Lat'], cururupu_df['Lng']))[0]\n",
    "cururupu_latlng"
   ]
  },
  {
   "cell_type": "code",
   "execution_count": 50,
   "metadata": {},
   "outputs": [
    {
     "data": {
      "text/plain": [
       "(5.38, -52.96)"
      ]
     },
     "execution_count": 50,
     "metadata": {},
     "output_type": "execute_result"
    }
   ],
   "source": [
    "#  Lat and longitude of Camopi city\n",
    "sinnamary_latlng= tuple(zip(sinnamary_df['Lat'], sinnamary_df['Lng']))[0]\n",
    "sinnamary_latlng"
   ]
  },
  {
   "cell_type": "code",
   "execution_count": 51,
   "metadata": {},
   "outputs": [
    {
     "data": {
      "text/plain": [
       "(3.17, -52.33)"
      ]
     },
     "execution_count": 51,
     "metadata": {},
     "output_type": "execute_result"
    }
   ],
   "source": [
    "#  Lat and longitude of Camopi city\n",
    "camopi_latlng= tuple(zip(camopi_df['Lat'], camopi_df['Lng']))[0]\n",
    "camopi_latlng"
   ]
  },
  {
   "cell_type": "code",
   "execution_count": 52,
   "metadata": {},
   "outputs": [
    {
     "data": {
      "application/vnd.jupyter.widget-view+json": {
       "model_id": "fcd7156f2e45460abac6388afd56479c",
       "version_major": 2,
       "version_minor": 0
      },
      "text/plain": [
       "Figure(layout=FigureLayout(height='420px'))"
      ]
     },
     "metadata": {},
     "output_type": "display_data"
    }
   ],
   "source": [
    "fig = gmaps.figure()\n",
    "sinnamary2cururupu_via_camopi_baiao=gmaps.directions_layer(\n",
    "        sinnamary_latlng, cururupu_latlng, waypoints=[baiao_latlng, camopi_latlng],\n",
    "        travel_mode='DRIVING')\n",
    "#geneva2zurich_via_montreux = gmaps.directions_layer(\n",
    "        #geneva, zurich, waypoints=[montreux],\n",
    "        #travel_mode='Driving')\n",
    "fig.add_layer(sinnamary2cururupu_via_camopi_baiao)\n",
    "fig"
   ]
  },
  {
   "cell_type": "code",
   "execution_count": 0,
   "metadata": {},
   "outputs": [],
   "source": [
    "info_box_template = \"\"\"\n",
    "<dl>\n",
    "<dt>Hotel Name</dt><dd>{Hotel Name}</dd>\n",
    "<dt>City</dt><dd>{City}</dd>\n",
    "<dt>Country</dt><dd>{Country}</dd>\n",
    "<dt>Max Temp</dt><dd>{Max Temp} °F</dd>\n",
    "<dt>Current Description</dt><dd>{Current Descrption}</dd>\n",
    "</dl>\n",
    "\"\"\"\n",
    "\n"
   ]
  },
  {
   "cell_type": "code",
   "execution_count": 0,
   "metadata": {},
   "outputs": [],
   "source": [
    "# Store the DataFrame Row.\n",
    "hotel_info = [info_box_template.format(**row) for index, row in hotel_df.iterrows()]\n",
    "\n"
   ]
  },
  {
   "cell_type": "code",
   "execution_count": 0,
   "metadata": {},
   "outputs": [],
   "source": [
    "# Add a heatmap of temperature for the vacation spots and a pop-up marker for each city.\n",
    "locations = hotel_df[[\"Lat\", \"Lng\"]]\n",
    "max_temp = hotel_df[\"Max Temp\"]\n",
    "fig = gmaps.figure(center=(30.0, 31.0), zoom_level=1.5)\n",
    "heat_layer = gmaps.heatmap_layer(locations, weights=max_temp,dissipating=False,\n",
    "             max_intensity=300, point_radius=4)\n",
    "marker_layer = gmaps.marker_layer(locations, info_box_content=hotel_info)\n",
    "fig.add_layer(heat_layer)\n",
    "fig.add_layer(marker_layer)\n",
    "\n",
    "# Call the figure to plot the data.\n",
    "fig\n",
    "\n"
   ]
  },
  {
   "cell_type": "code",
   "execution_count": 0,
   "metadata": {},
   "outputs": [],
   "source": [
    "# Create the output file (CSV).\n",
    "output_data_file = \"weather_data/weatherpy_vacation.csv\"\n",
    "# Export the City_Data into a CSV.\n",
    "hotel_df.to_csv(output_data_file, index_label=\"City_ID\")\n",
    "\n"
   ]
  },
  {
   "cell_type": "code",
   "execution_count": 0,
   "metadata": {},
   "outputs": [],
   "source": [
    "\n",
    "\n"
   ]
  }
 ],
 "metadata": {
  "file_extension": ".py",
  "kernelspec": {
   "display_name": "PythonData",
   "language": "python",
   "name": "pythondata"
  },
  "language_info": {
   "codemirror_mode": {
    "name": "ipython",
    "version": 3
   },
   "file_extension": ".py",
   "mimetype": "text/x-python",
   "name": "python",
   "nbconvert_exporter": "python",
   "pygments_lexer": "ipython3",
   "version": "3.6.9"
  },
  "mimetype": "text/x-python",
  "name": "python",
  "npconvert_exporter": "python",
  "pygments_lexer": "ipython3",
  "version": 3
 },
 "nbformat": 4,
 "nbformat_minor": 2
}
